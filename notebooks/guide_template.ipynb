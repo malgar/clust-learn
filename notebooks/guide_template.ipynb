{
 "cells": [
  {
   "cell_type": "code",
   "execution_count": 1,
   "id": "e49bbab1-a8d7-456b-be4c-e25b625aa1ac",
   "metadata": {},
   "outputs": [],
   "source": [
    "import clearn"
   ]
  },
  {
   "cell_type": "code",
   "execution_count": null,
   "id": "ff092ba7-a7a1-4796-af65-146cca4f36a9",
   "metadata": {},
   "outputs": [],
   "source": []
  }
 ],
 "metadata": {
  "kernelspec": {
   "display_name": "Python 3 (ipykernel)",
   "language": "python",
   "name": "python3"
  },
  "language_info": {
   "codemirror_mode": {
    "name": "ipython",
    "version": 3
   },
   "file_extension": ".py",
   "mimetype": "text/x-python",
   "name": "python",
   "nbconvert_exporter": "python",
   "pygments_lexer": "ipython3",
   "version": "3.9.7"
  }
 },
 "nbformat": 4,
 "nbformat_minor": 5
}
